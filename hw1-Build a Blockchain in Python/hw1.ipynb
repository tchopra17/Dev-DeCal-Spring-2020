{
 "cells": [
  {
   "cell_type": "markdown",
   "metadata": {},
   "source": [
    "# Build a Blockchain! - Blockchain Design Exercises"
   ]
  },
  {
   "cell_type": "markdown",
   "metadata": {},
   "source": [
    "## HW1 - Build a Blockchain in Python\n",
    "\n",
    "#### Getting Started\n",
    "\n",
    "CS 198-077 Spring 2020 \n",
    "HW1-Build a Blockchain in Python\n",
    "\n",
    "Created by Omkar Shanbhag, Updated by Simon Guo\n",
    "\n",
    "This notebook is meant to be a short introduction to Blockchain implementations, aimed at helping us take the topics we learn about in fundamentals, and seeing how they translate to code. \n",
    "\n",
    "In this notebook we will implement various different aspects of Blockchain technology that we understand including: \n",
    "\n",
    "- The Blockchain Data Structure using OOP \n",
    "- A proof of work simulation \n",
    "- Understanding of the concept of difficulty of finding the next block hash \n",
    "- A simulation of multiple miners with varying computational powers \n",
    "- A bit of data analytics to see if what we've implemented makes sense "
   ]
  },
  {
   "cell_type": "code",
   "execution_count": 2,
   "metadata": {},
   "outputs": [],
   "source": [
    "#Import statements\n",
    "import hashlib as hasher \n",
    "import random as rand\n",
    "import time \n",
    "import datetime as date\n",
    "import ipyparallel as ipp\n",
    "import numpy as np\n",
    "import matplotlib.pyplot as plt"
   ]
  },
  {
   "cell_type": "markdown",
   "metadata": {},
   "source": [
    "# Blockchain Data Structure Design"
   ]
  },
  {
   "cell_type": "markdown",
   "metadata": {},
   "source": [
    "In this section we will define the class \"Block\" and create an init function that creates a new block given some parameters, as well as a function hash_block, that computes the hash of this block based on its class variables. \n",
    "\n",
    "The init function is implemented for you below and creates a block with the following specifications \n",
    "- Index --> the index of the block on the chain (zero indexed)\n",
    "- Timestamp --> time that the block was added on to the chain\n",
    "- data --> The data the block contains (Usually points to root of merkel tree, but we can fill it with whatever for this)\n",
    "- previous_hash --> The hash value of the previous block \n",
    "- hash --> hash of this block computed using the hash_block function\n",
    "- nonce --> the variable value that we change to alter the hash output (Default value = 0, irrelevant in this section)\n",
    "\n",
    "****QUESTION #1: Implement hash_block()****\n",
    "\n",
    "We need to implement the hash_block() which computes the hash value of this block based on how we initialize it. This function takes in no parameters. \n",
    "\n",
    "Desired Functionality:\n",
    "- Concatenate string representations of all the class variables \n",
    "- Computes the SHA256 hash of this concatenation \n",
    "\n",
    "-- HINTS --\n",
    "\n",
    "- use the first import statement!!! \n",
    "- initialize a new hasher\n",
    "- Look into the following words \n",
    "    - utf-8 encoding \n",
    "    - .update() function \n",
    "    - .hexdigest() function\n",
    "    - In order for the test function below to work properly, create the string concatenation in the following order with no spaces or any other characters in between \n",
    "       - index\n",
    "       - timestamp\n",
    "       - data\n",
    "       - previous block hash\n",
    "       - nonce\n",
    "     - If you want to do it another order that incorporates everything thats totally fine, but test function wont work!"
   ]
  },
  {
   "cell_type": "markdown",
   "metadata": {},
   "source": []
  },
  {
   "cell_type": "code",
   "execution_count": 27,
   "metadata": {},
   "outputs": [],
   "source": [
    "class Block:\n",
    "    def __init__(self, index, timestamp, data, previous_hash, nonce=0):\n",
    "        self.index = index\n",
    "        self.timestamp = timestamp\n",
    "        self.data = data\n",
    "        self.nonce = nonce #set to zero as default not applicable in first section \n",
    "        self.previous_hash = previous_hash\n",
    "        self.hash = self.hash_block()\n",
    "\n",
    "    def hash_block(self):\n",
    "        #Your code for QUESTION 1 Here\n",
    "        concat =str(self.index) + str(self.timestamp) + self.data + self.previous_hash + str(self.nonce)\n",
    "        concat = concat.encode('utf8')\n",
    "        hsh = hasher.sha256()\n",
    "        hsh.update(concat)\n",
    "        return hsh.hexdigest()\n",
    "        "
   ]
  },
  {
   "cell_type": "code",
   "execution_count": null,
   "metadata": {},
   "outputs": [],
   "source": []
  },
  {
   "cell_type": "markdown",
   "metadata": {},
   "source": [
    "**TEST YOUR QUESTION 1 CODE HERE**\n",
    "\n",
    "Run the block of code below"
   ]
  },
  {
   "cell_type": "code",
   "execution_count": 28,
   "metadata": {},
   "outputs": [
    {
     "name": "stdout",
     "output_type": "stream",
     "text": [
      "PASSED!!! Move on to next Question\n"
     ]
    }
   ],
   "source": [
    "def test_question_1(index, time, data, previous_hash):\n",
    "    new_block = Block(index, time, data, previous_hash)\n",
    "    check_string = '2def27922fc1c67254a9cdb0c660b91abf9b135ad38fc13c7c77007448b824a0'\n",
    "    print_statement = \"PASSED!!! Move on to next Question\" if str(new_block.hash) == check_string else \"FAILED!!! Try Again\"\n",
    "    print(print_statement)\n",
    "\n",
    "time = '2019-10-17 00:37:35.256774'\n",
    "data = 'Machine Learning Blockchain AI'\n",
    "previous_hash = '6ffd1464f68ef4aeb385d399244efa19293ba5c842c464a82c02f8256ef71428'\n",
    "index = 0\n",
    "    \n",
    "test_question_1(index, time, data, previous_hash)"
   ]
  },
  {
   "cell_type": "markdown",
   "metadata": {},
   "source": [
    "**Functions for Building the Chain**\n",
    "\n",
    "Now that we have our class Block completed, lets figure out how to make a chain out of them. For a chain, we need to first have a function that creates a genesis block, which serves as the first block of our chain, and then create the function next_block() which builds a new block on top of a given block.\n",
    "\n",
    "create_genesis_block() has been implemented for you. It creates a block with the following specifications. \n",
    "- index = 0\n",
    "- timestamp = Now (whenever the function is being called) \n",
    "- data = \"Genesis Block\"\n",
    "- previous_hash = \"0\"\n",
    "\n",
    "**QUESTION #2: Implement next_block()**\n",
    "\n",
    "We need to implement the function next_block() which takes in 1 parameter:\n",
    "- Last_block = an instance of class Block that is the block that we're building our next block on top of \n",
    "- nonce = Dont do anything with this right now - just pass it in to the Block that you create using the default \n",
    "\n",
    "We want to implement the function so that it returns a new instance of the class Block with the following specifications\n",
    "- index = index of last_block + 1\n",
    "- timestamp = Now (whenever the function is being called)\n",
    "- data = \"Hey! I'm block {index}\"  (for example block w/ index 5 would have data: \"Hey! I'm block 5\")\n",
    "- previous_hash = hash of last_block"
   ]
  },
  {
   "cell_type": "code",
   "execution_count": 37,
   "metadata": {},
   "outputs": [],
   "source": [
    "#Creates the first block with current time and generic data\n",
    "def create_genesis_block():\n",
    "    # Manually construct a block with\n",
    "    # index zero and arbitrary previous hash\n",
    "    return Block(0, date.datetime.now(), \"Genesis Block\", \"0\")\n",
    "\n",
    "#Function that creates the next block, given the last block on the chain you want to mine on\n",
    "def next_block(last_block, nonce=0):\n",
    "    #Your code for QUESTION 2 here\n",
    "    index = last_block.index + 1\n",
    "    timestamp = date.datetime.now()\n",
    "    data = \"Hey! I'm block \" + str(index)\n",
    "    previous_hash = last_block.previous_hash\n",
    "    return Block(index, timestamp, data, previous_hash)\n",
    "    \n",
    "    "
   ]
  },
  {
   "cell_type": "markdown",
   "metadata": {},
   "source": [
    "**TEST YOUR QUESTION 2 CODE HERE**\n",
    "\n",
    "Run the block of code below"
   ]
  },
  {
   "cell_type": "code",
   "execution_count": 52,
   "metadata": {},
   "outputs": [
    {
     "name": "stdout",
     "output_type": "stream",
     "text": [
      "PASSED!!! Move on to next part\n"
     ]
    }
   ],
   "source": [
    "def test_question_2(genesis_block):\n",
    "    block_1 = next_block(genesis_block)\n",
    "    if block_1.index == 1 and block_1.data == \"Hey! I'm block 1\" and block_1.previous_hash == genesis_block.hash or str(type(block_1.timestamp)) == \"<class 'datetime.datetime'>\":\n",
    "        print(\"PASSED!!! Move on to next part\" )\n",
    "    else:\n",
    "        print(\"FAILED!!! Try again :(\")\n",
    "    \n",
    "\n",
    "genesis_block = create_genesis_block()\n",
    "test_question_2(genesis_block)"
   ]
  },
  {
   "cell_type": "markdown",
   "metadata": {},
   "source": [
    "**Spinning up a Chain**\n",
    "\n",
    "Now that we've created the data structure as well as the functions needed to create the chain, lets see how spinning up an actual instance of this would work. \n",
    "\n",
    "Below we initialize three different variables \n",
    "- blockchain - this is a python list which we initialize with one block inside (the genesis block) \n",
    "- previous_block - this points to our genesis block (since it references the first element in blockchain)\n",
    "- num_blocks - this specifies the number of additional blocks we want to add to our chain \n",
    "\n",
    "**QUESTION 3 complete_chain()**\n",
    "\n",
    "We want to complete the implementation of the function complete_chain(). This function takes in three inputs, which correspond to the initializations that we made. It returns nothing, however by the time we are done running it, the list 'blockchain' that we initialized earlier has been turned into an array of length num_blocks + 1 in which each element is an instance of class Block and each element's self.previous_hash == the previous element's self.hash. Therefore we have created our own mini blockchain!! \n",
    "\n",
    "The for loop and the print statements of complete_chain have been implemented for you, you need to add the statements that ***create a new block on top of previous_block, add it to the block chain, and edit previous block so that the for loop can continue correctly*** \n",
    "\n",
    "****HINT **** --> Literally just do all the things listed in the section immediately above in order \n",
    "\n",
    "If it works out, you should get the same number of print statements as num_blocks"
   ]
  },
  {
   "cell_type": "code",
   "execution_count": 60,
   "metadata": {},
   "outputs": [
    {
     "name": "stdout",
     "output_type": "stream",
     "text": [
      "Block #0 has been added to the blockchain!\n",
      "Hash: 06d38dbac84261ecb731dd552f7a9d2cf8cb4177ea0f3b44f17f8e2fea510a3f\n",
      "\n",
      "Block #1 has been added to the blockchain!\n",
      "Hash: 4bf178d02520fee48b8e8158aafa190265fa1c55c5e9cf1516af09098aae745f\n",
      "\n",
      "Block #2 has been added to the blockchain!\n",
      "Hash: f425bc1e58f999b8bac4efe54d6aadc03e1ad20852ad737d90b7e4377abab7ee\n",
      "\n",
      "Block #3 has been added to the blockchain!\n",
      "Hash: 526b2c9789cd4b5d70b8715fb89934b6fce101a38b11f00a9abf71a68154ba27\n",
      "\n",
      "Block #4 has been added to the blockchain!\n",
      "Hash: 8bbe6f201ae48b353d9960610041ec91d25b5b3fdf20d8609f286412a88c037c\n",
      "\n",
      "Block #5 has been added to the blockchain!\n",
      "Hash: 210f8db8bd68498d8d66409b569d4aea4113ad88364d6a245c9574435e118884\n",
      "\n",
      "Block #6 has been added to the blockchain!\n",
      "Hash: 8a3d379533754ee8f1d67e6d05d1af9d84e2f2df73f2fcc89de2fa1c83f6baed\n",
      "\n",
      "Block #7 has been added to the blockchain!\n",
      "Hash: d25c088140ad5b82501ceb13280f7d1c62cf10aba56bf5024b74520782830689\n",
      "\n",
      "Block #8 has been added to the blockchain!\n",
      "Hash: d5c7f43f487f265719548712f0b93ef55b41d85973a8c507c2f97014fb8d1286\n",
      "\n",
      "Block #9 has been added to the blockchain!\n",
      "Hash: 0fdc00f02c7e4d69a577b6c24afb1509f18225d6b775ca4b49b89b4a8b229d62\n",
      "\n",
      "Block #10 has been added to the blockchain!\n",
      "Hash: 7ce81e37d7412ecee8f820c585633aeaaf287cfc63e20b35d391002d1647f6c2\n",
      "\n",
      "Block #11 has been added to the blockchain!\n",
      "Hash: e64a164d82ed5f88de435fc6f7798c3513218b316f3565a856d515855d3ec138\n",
      "\n",
      "Block #12 has been added to the blockchain!\n",
      "Hash: 06dcd334f989cd0f48a000e8596fa604de94912c2960bba4fb629c9b95613154\n",
      "\n",
      "Block #13 has been added to the blockchain!\n",
      "Hash: 2d07e8ed345b64ebfecc4a43956dea9bf2162a47e79b22cfe2b19588ba5c716a\n",
      "\n",
      "Block #14 has been added to the blockchain!\n",
      "Hash: 6e20338884f4736216c3b8afeae83f4f0a329a1d319a562bd407f414ff5b29bb\n",
      "\n",
      "Block #15 has been added to the blockchain!\n",
      "Hash: 5f5fe14deaa5cf853132cd6bb96a8c6ad90a0ce1c6a4c0c193822acb12e68cf5\n",
      "\n",
      "Block #16 has been added to the blockchain!\n",
      "Hash: d4d8b0f698d115a3c3321d75d16f5472ec90eff8dd6925e3b60fdcdb062fa19c\n",
      "\n",
      "Block #17 has been added to the blockchain!\n",
      "Hash: 71388f08298b95cd1106dba5c5db88f59e34e169c8e7c8e4b35d9e4b693cc545\n",
      "\n",
      "Block #18 has been added to the blockchain!\n",
      "Hash: 0daa6253e25e01edc5963e9a6f1fd17a5bcfe630342dae19c22e1ba9cf1222ea\n",
      "\n",
      "Block #19 has been added to the blockchain!\n",
      "Hash: 96217d8e9641f20b3219111493ea25785eb36f1af4eb08ab8db1a56db6558a24\n",
      "\n"
     ]
    }
   ],
   "source": [
    "# Create the blockchain and add the genesis block\n",
    "blockchain = [create_genesis_block()]\n",
    "\n",
    "#Create our initial reference to previous block which points to the genesis block\n",
    "previous_block = blockchain[0]\n",
    "\n",
    "# How many blocks should we add to the chain after the genesis block\n",
    "num_blocks = 20\n",
    "\n",
    "def complete_chain(num_blocks, blockchain, previous_block):\n",
    "    # Add blocks to the chain\n",
    "    for i in range(0, num_blocks):\n",
    "        #Your code for QUESTION 3 Here \n",
    "        block_to_add = Block(i, date.datetime.now(), \"hi\", previous_block.hash)\n",
    "        previous_block = block_to_add\n",
    "        blockchain.append(block_to_add)\n",
    "        \n",
    "        #Your code for QUESTION 3 ends Here\n",
    "        # Tell everyone about it!\n",
    "        print(\"Block #{} has been added to the blockchain!\".format(block_to_add.index))\n",
    "        print(\"Hash: {}\\n\".format(block_to_add.hash))\n",
    "\n",
    "complete_chain(num_blocks, blockchain, previous_block)"
   ]
  },
  {
   "cell_type": "markdown",
   "metadata": {},
   "source": [
    "**TEST YOUR QUESTION 3 CODE HERE**\n",
    "\n",
    "Run the block of code below"
   ]
  },
  {
   "cell_type": "code",
   "execution_count": 61,
   "metadata": {},
   "outputs": [
    {
     "name": "stdout",
     "output_type": "stream",
     "text": [
      "PASSED!!! Move on to the next Part\n"
     ]
    }
   ],
   "source": [
    "def test_question_3(blockchain, num_blocks):\n",
    "    correct = True\n",
    "    if len(blockchain) != num_blocks + 1:\n",
    "        correct = False\n",
    "    for i in range(len(blockchain)-1):\n",
    "        if blockchain[i + 1].previous_hash != blockchain[i].hash:\n",
    "            correct = False\n",
    "            break\n",
    "    print_statement = \"PASSED!!! Move on to the next Part\" if correct else \"FAILED!!! Try Again :(\"\n",
    "    print(print_statement)\n",
    "\n",
    "test_question_3(blockchain, num_blocks)"
   ]
  },
  {
   "cell_type": "markdown",
   "metadata": {},
   "source": [
    "# Proof of Work Simulation"
   ]
  },
  {
   "cell_type": "markdown",
   "metadata": {},
   "source": [
    "In this section we will be doing a simulation of the proof-of-work consensus mechanism that the Bitcoin Blockchain (among others) uses. Let us define some of the concepts that we will be dealing with in this section. \n",
    "\n",
    "**The Nonce** --> Randomly generated value that we add to our concatenation of our block to add variance to our hashes\n",
    "\n",
    "**Difficulty** --> Specified by the network (in theory, here it is specified by us). Defines the number of hashes that are valid out of all possible values. Higher difficulty indicates a lower number of valid hashes. \n",
    "\n",
    "**QUESTION 4: generate_nonce(), generate_difficulty_bound(), find_next_block()**\n",
    "\n",
    "**Part 1 - Description** \n",
    "\n",
    "The functions **generate_nonce()** and **generate_difficulty_bound()** have been implemented below for you. The first part of this question involves reading through, them understanding them completely, and writing a quick 1 - 2 line summary of what they are supposed to do and how they are implemented (write it in the space given, 2 cells below).\n",
    "\n",
    "**Part 2 - Implementation**\n",
    "\n",
    "The second part of this question is to complete the implementation of find_next_block(). This function's purpose is to try different blocks with the same data, index etc. but different nonces that satisfy the difficulty metric specified. The difficulty bound has already been generated for you and the first block has been created. You have to complete the implementation so that: \n",
    "- You find a nonce such that the hash of the block is less than the difficulty bound. \n",
    "- All data from new block has to be the same (including the timestamp, for simplicity purposes) and the only thing changing is the nonce \n",
    "- For our learning purposes, increment the hashes_tried parameter appropriately everytime you try a hash so that we can see the number of hashes tried and how this correlates to our difficulty value. \n",
    "\n",
    "**HINTS**\n",
    "- How do you turn a hash string into its hex prepresentation that you can compare???\n",
    "- if your implementation is working, you should notice something interesting about all the hashes of the blocks that you are getting when you run the code cell labeled \"Create Proof of work Blockchain\"**\n",
    "\n",
    "\n",
    "\n",
    "**you can test question 4 in the a few cells below this one, after running all the cells in between**"
   ]
  },
  {
   "cell_type": "code",
   "execution_count": 80,
   "metadata": {},
   "outputs": [],
   "source": [
    "import time\n",
    "\n",
    "def generate_nonce(length=20):\n",
    "    return ''.join([str(rand.randint(0, 9)) for i in range(length)])\n",
    "\n",
    "def generate_difficulty_bound(difficulty=1):\n",
    "    diff_str = \"\"\n",
    "    for i in range(difficulty):\n",
    "        diff_str += '0'\n",
    "    for i in range(64 - difficulty):\n",
    "        diff_str += 'F'\n",
    "    diff_str = \"0x\" + diff_str  # \"0x\" needs to be added at the front to specify that it is a hex representation\n",
    "    return(int(diff_str, 16))  # Specifies that we want to create an integer of base 16 (as opposed to the default base 10)\n",
    "\n",
    "#Given a previous block and a difficulty metric, finds a nonce that results in a lower hash value\n",
    "def find_next_block(last_block, difficulty, nonce_length):\n",
    "    difficulty_bound = generate_difficulty_bound(difficulty)\n",
    "    start = time.process_time() \n",
    "    new_block = next_block(last_block)\n",
    "    hashes_tried = 1 \n",
    "    #Your code for QUESTION 4 Starts here \n",
    "    while (int(new_block.hash, 16) > difficulty_bound):\n",
    "        nonce = generate_nonce(nonce_length)\n",
    "        new_block = Block(new_block.index, new_block.timestamp, new_block.data, new_block.previous_hash, nonce)\n",
    "        hashes_tried += 1\n",
    "    #Your code for QUESTION 4 Ends here \n",
    "    time_taken = time.process_time() - start\n",
    "    return(time_taken, hashes_tried, new_block)"
   ]
  },
  {
   "cell_type": "markdown",
   "metadata": {},
   "source": [
    "**QUESTION 4 Description Section**\n",
    "\n",
    "Describe the following functions: \n",
    "\n",
    "- generate_nonce(): return a random number of length of specified\n",
    "\n",
    "- generate_difficulty_bound(): fills the diff str with 0 and F to decrease number of valid hashes"
   ]
  },
  {
   "cell_type": "markdown",
   "metadata": {},
   "source": [
    "The cell below creates our proof of work blockchain in a similar way that we do in the earlier section. \n",
    "\n",
    "Some initializations:\n",
    "- blockchain_pow: Our new python list that signifies our proof of work blockchain, with the genesis block inside\n",
    "- previous_block: The first block to use as previous block to build upon\n",
    "- num_blocks: number of additional blocks to add to teh chain\n",
    "- difficulty: difficulty of the network \n",
    "- nonce_length: length of the randomly generated nonce"
   ]
  },
  {
   "cell_type": "markdown",
   "metadata": {},
   "source": [
    "### Create Proof of Work Blockchain "
   ]
  },
  {
   "cell_type": "code",
   "execution_count": 84,
   "metadata": {},
   "outputs": [
    {
     "name": "stdout",
     "output_type": "stream",
     "text": [
      "Block #1 has been added to the blockchain!\n",
      "646 Hashes Tried!\n",
      "Time taken to find block: 0.025431649000012158\n",
      "Hash: 0003a0e6cc6bf671536a48a9ed3b07837a65467c6faf9720284bc7dfe7c2ac7c\n",
      "\n",
      "Block #2 has been added to the blockchain!\n",
      "8004 Hashes Tried!\n",
      "Time taken to find block: 0.18226986000001943\n",
      "Hash: 00030999af8135c02d40eb2388c122761224dfb0a346074d43dcca67eae75cc9\n",
      "\n",
      "Block #3 has been added to the blockchain!\n",
      "508 Hashes Tried!\n",
      "Time taken to find block: 0.011608760999990864\n",
      "Hash: 0003aa62912a8077ba2a3398897c094fa69cdebb2eed7781617077d40b23066e\n",
      "\n",
      "Block #4 has been added to the blockchain!\n",
      "1293 Hashes Tried!\n",
      "Time taken to find block: 0.029484704999987343\n",
      "Hash: 00030fd4429e794d8da94d8e8e4ac7efc3333b6db6b7f032666b8bdfd6288d76\n",
      "\n",
      "Block #5 has been added to the blockchain!\n",
      "6111 Hashes Tried!\n",
      "Time taken to find block: 0.1366378339999983\n",
      "Hash: 0007ec552142f09d74fcdf61cea1b566078f1f002b2b2dc0b09be3193aeefb51\n",
      "\n",
      "Block #6 has been added to the blockchain!\n",
      "4180 Hashes Tried!\n",
      "Time taken to find block: 0.09374214900000766\n",
      "Hash: 000a4bfbd7cff8fbab0c260d3100785b8b4123270cc21991cdbe2556e2a5f47a\n",
      "\n",
      "Block #7 has been added to the blockchain!\n",
      "4910 Hashes Tried!\n",
      "Time taken to find block: 0.11010396099999298\n",
      "Hash: 0004ddd40342ae77ed997bc072a230c10ee44bdb007ccafc31dacc5c72443d06\n",
      "\n",
      "Block #8 has been added to the blockchain!\n",
      "1613 Hashes Tried!\n",
      "Time taken to find block: 0.03622922300002074\n",
      "Hash: 0001f35d5b7ac7ec0354a0c7d1ae1299e69b40d4e25a6a1f142c205fa3cb34f1\n",
      "\n",
      "Block #9 has been added to the blockchain!\n",
      "1143 Hashes Tried!\n",
      "Time taken to find block: 0.02528573699999015\n",
      "Hash: 0004b592b412da2ab076aca0acca49d1e32529f796afb6e9bbdff4ae13ef341f\n",
      "\n",
      "Block #10 has been added to the blockchain!\n",
      "14898 Hashes Tried!\n",
      "Time taken to find block: 0.3391168549999861\n",
      "Hash: 00096776b987957247fa42f6d56c75de75c2449679f5c6d7daa2727c2e10ff43\n",
      "\n",
      "Block #11 has been added to the blockchain!\n",
      "7076 Hashes Tried!\n",
      "Time taken to find block: 0.16043604099999698\n",
      "Hash: 000e404f215c49ea8bb348c36dff6fcdb2f1f74d477885de2492b27a34027828\n",
      "\n",
      "Block #12 has been added to the blockchain!\n",
      "11577 Hashes Tried!\n",
      "Time taken to find block: 0.2656990600000029\n",
      "Hash: 000706e012ff4473a8fd1f3dac15014217806aa1b067eb9c725efbc46e2fae4b\n",
      "\n",
      "Block #13 has been added to the blockchain!\n",
      "5982 Hashes Tried!\n",
      "Time taken to find block: 0.13657521700000075\n",
      "Hash: 000a7fc928da28663cc97ce75498a7ae6b0fb9e760380da45e8b2b86178e6825\n",
      "\n",
      "Block #14 has been added to the blockchain!\n",
      "3953 Hashes Tried!\n",
      "Time taken to find block: 0.08858206600001495\n",
      "Hash: 000c47492912f99ae21542f7471119553e92732fdbba68f284baba3f600b9e09\n",
      "\n",
      "Block #15 has been added to the blockchain!\n",
      "2450 Hashes Tried!\n",
      "Time taken to find block: 0.05526770699998451\n",
      "Hash: 000f21b732304dd5e8d5ddb9654fcfb26acbf794819d90407db7328580ef95f3\n",
      "\n",
      "Block #16 has been added to the blockchain!\n",
      "1012 Hashes Tried!\n",
      "Time taken to find block: 0.023284685000021454\n",
      "Hash: 000f459aceb745d049f6b2eb20db6920cba58d5493b7bbe6c7dfdead8f1010a9\n",
      "\n",
      "Block #17 has been added to the blockchain!\n",
      "1645 Hashes Tried!\n",
      "Time taken to find block: 0.036548758999998654\n",
      "Hash: 00074983b8a6e38b03118d4ef05d4a57a100bace4cc970a79d30d194014e3745\n",
      "\n",
      "Block #18 has been added to the blockchain!\n",
      "2106 Hashes Tried!\n",
      "Time taken to find block: 0.04849504000000593\n",
      "Hash: 000cb5aae0b0fe423c7d0316a5cb276fc5f71e0e76e72f2457b8beaafb88c202\n",
      "\n",
      "Block #19 has been added to the blockchain!\n",
      "1583 Hashes Tried!\n",
      "Time taken to find block: 0.03638037700000041\n",
      "Hash: 00031c55d28fe17b05d2cb1b8f47e5f96f21829e9663d0bfd380aa942ddd4110\n",
      "\n",
      "Block #20 has been added to the blockchain!\n",
      "1904 Hashes Tried!\n",
      "Time taken to find block: 0.043634287999992694\n",
      "Hash: 000674a6950927dc3f466516ebb7246f1324d5af706c182f56ff0953535c971a\n",
      "\n"
     ]
    }
   ],
   "source": [
    "# Create the blockchain and add the genesis block\n",
    "blockchain_pow = [create_genesis_block()]\n",
    "\n",
    "#Create our initial reference to previous block which points to the genesis block\n",
    "previous_block = blockchain_pow[0]\n",
    "\n",
    "# How many blocks should we add to the chain after genesis block\n",
    "num_blocks = 20\n",
    "\n",
    "#magnitude of difficulty of hash - number of zeroes that must be in the beginning of the hash\n",
    "difficulty = 3\n",
    "\n",
    "#length of nonce that will be generated and added\n",
    "nonce_length = 20\n",
    "\n",
    "# Add blocks to the chain based on difficulty with nonces of length nonce_length\n",
    "def create_pow_blockchain(num_blocks, difficulty, blockchain_pow, previous_block, nonce_length, print_data=1):\n",
    "    hash_array = []\n",
    "    time_array = []\n",
    "    for i in range(0, num_blocks):\n",
    "        time_taken, hashes_tried, block_to_add = find_next_block(previous_block, difficulty, nonce_length)\n",
    "        blockchain_pow.append(block_to_add)\n",
    "        previous_block = block_to_add\n",
    "        hash_array.append(hashes_tried)\n",
    "        time_array.append(time_taken)\n",
    "        # Tell everyone about it!\n",
    "        if print_data:\n",
    "            print(\"Block #{} has been added to the blockchain!\".format(block_to_add.index))\n",
    "            print(\"{} Hashes Tried!\".format(hashes_tried))\n",
    "            print(\"Time taken to find block: {}\".format(time_taken))\n",
    "            print(\"Hash: {}\\n\".format(block_to_add.hash))\n",
    "    return(hash_array, time_array)\n",
    "\n",
    "hash_array, time_array = create_pow_blockchain(num_blocks, difficulty, blockchain_pow, previous_block, nonce_length)"
   ]
  },
  {
   "cell_type": "markdown",
   "metadata": {},
   "source": [
    "**TEST YOUR QUESTION 4 CODE HERE**\n",
    "\n",
    "Run the block of code below"
   ]
  },
  {
   "cell_type": "code",
   "execution_count": 83,
   "metadata": {},
   "outputs": [
    {
     "name": "stdout",
     "output_type": "stream",
     "text": [
      "FAILED!!! Try Again :(\n"
     ]
    }
   ],
   "source": [
    "def test_question_4(blockchain_pow, num_blocks):\n",
    "    correct = True\n",
    "    bound = generate_difficulty_bound(difficulty)\n",
    "    if len(blockchain_pow) != num_blocks + 1:\n",
    "        correct = False\n",
    "    for i in range(len(blockchain_pow) - 1):\n",
    "        if blockchain_pow[i + 1].previous_hash != blockchain_pow[i].hash:\n",
    "            correct = False\n",
    "            break\n",
    "        if int(blockchain_pow[i + 1].hash, 16) > bound:\n",
    "            correct = False\n",
    "            break\n",
    "    print_statement = \"PASSED!!! Move on to the next Part\" if correct else \"FAILED!!! Try Again :(\"\n",
    "    print(print_statement)\n",
    "            \n",
    "test_question_4(blockchain_pow, num_blocks)"
   ]
  },
  {
   "cell_type": "markdown",
   "metadata": {},
   "source": [
    "Once you have passed the above test case, you can do things like play around with the difficulties and nonce lengths and seeing that happens "
   ]
  },
  {
   "cell_type": "markdown",
   "metadata": {},
   "source": [
    "# Note: The sections below are optional but super cool!"
   ]
  },
  {
   "cell_type": "markdown",
   "metadata": {},
   "source": [
    "# Distributed Network + Compute Power Simulation"
   ]
  },
  {
   "cell_type": "markdown",
   "metadata": {},
   "source": [
    "In this section, instead of simulating a single node that carries out all the proof of work calculations, we will create a bunch of different nodes that will all compete to find different blocks. These nodes will all have different compute powers that we will be able to specify. Below we will define the MinerNodeNaive class which has an init function to create an instance, as well as a try_hash function that allows it to try a hash and see if it works. "
   ]
  },
  {
   "cell_type": "code",
   "execution_count": null,
   "metadata": {},
   "outputs": [],
   "source": [
    "#Naive miner class that races with other miners to see who can get a certain number of blocks first \n",
    "class MinerNodeNaive: \n",
    "    def __init__(self, name, compute):\n",
    "        self.name = name \n",
    "        self.compute = compute\n",
    "    \n",
    "    def try_hash(self, diff_value, chain):\n",
    "        last_block = chain[-1]\n",
    "        difficulty = generate_difficulty_bound(diff_value)\n",
    "        date_now = date.datetime.now()\n",
    "        this_index = last_block.index + 1\n",
    "        this_timestamp = date_now\n",
    "        this_data = \"Hey! I'm block \" + str(this_index)\n",
    "        this_hash = last_block.hash\n",
    "        new_block = Block(this_index, this_timestamp, this_data, this_hash)\n",
    "        if int(new_block.hash, 16) < difficulty:\n",
    "            chain.append(new_block)\n",
    "            # Tell everyone about it!\n",
    "            print(\"Block #{} has been added to the blockchain!\".format(new_block.index))\n",
    "            print(\"Block found by: {}\".format(self.name))\n",
    "            print(\"Hash: {}\\n\".format(new_block.hash))\n",
    "        "
   ]
  },
  {
   "cell_type": "markdown",
   "metadata": {},
   "source": [
    "**Question #5: Describe the Following Cells**\n",
    "\n",
    "In the next 4 cells I try to simulate a bunch of different miners with different compute powers. However this isn't completely indicative of how a real system works, and is limited by what I had to work with. Read through the code, and run all of the cells and explain what is happening in a paragrpah. Also explain how this is different from real world vanilla proof of work systems and how this simulation isn't completely accurate of what's actually happening while nodes race to find the next block. There is a cell at the bottom where you can enter your description.  "
   ]
  },
  {
   "cell_type": "code",
   "execution_count": null,
   "metadata": {},
   "outputs": [],
   "source": [
    "#Initialize multiple miners on the network \n",
    "berkeley_Miner = MinerNodeNaive(\"Berkeley Miner\", 10)\n",
    "stanford_Miner = MinerNodeNaive(\"Stanford Miner\", 5)\n",
    "MIT_Miner = MinerNodeNaive(\"MIT Miner\", 2)\n",
    "UCLA_Miner = MinerNodeNaive(\"UCLA Miner\", 1)\n",
    "\n",
    "miner_array = [berkeley_Miner, stanford_Miner, MIT_Miner, UCLA_Miner]"
   ]
  },
  {
   "cell_type": "code",
   "execution_count": null,
   "metadata": {},
   "outputs": [],
   "source": [
    "def create_compute_simulation(miner_array):\n",
    "    compute_array = []\n",
    "    for miner in miner_array:\n",
    "        for i in range(miner.compute):\n",
    "            compute_array.append(miner.name)\n",
    "    return(compute_array)\n",
    "\n",
    "compute_simulation_array = create_compute_simulation(miner_array)\n",
    "rand.shuffle(compute_simulation_array)"
   ]
  },
  {
   "cell_type": "code",
   "execution_count": null,
   "metadata": {},
   "outputs": [],
   "source": [
    "chain_length = 20\n",
    "blockchain_distributed = [create_genesis_block()]\n",
    "genesis_block_dist = blockchain_distributed[0]\n",
    "chain_difficulty = [rand.randint(2,4) for i in range(chain_length)]"
   ]
  },
  {
   "cell_type": "code",
   "execution_count": null,
   "metadata": {},
   "outputs": [],
   "source": [
    "for i in range(len(chain_difficulty)): \n",
    "    while len(blockchain_distributed) < i + 2:\n",
    "        next_miner_str = rand.sample(compute_simulation_array, 1)[0] \n",
    "        next_miner = berkeley_Miner #random default (go bears)\n",
    "        for miner in miner_array:\n",
    "            if next_miner_str == miner.name:\n",
    "                next_miner = miner\n",
    "        next_miner.try_hash(chain_difficulty[i], blockchain_distributed)\n",
    "        "
   ]
  },
  {
   "cell_type": "markdown",
   "metadata": {},
   "source": [
    "**Question 5 Description Here**\n",
    "\n",
    "- Description: **#####Your description here####**"
   ]
  },
  {
   "cell_type": "markdown",
   "metadata": {
    "collapsed": true
   },
   "source": [
    "# Blockchain Data Analytics"
   ]
  },
  {
   "cell_type": "markdown",
   "metadata": {
    "collapsed": true
   },
   "source": [
    "Here we will use data analytics to analyze the number of hashes we need to try before we find a valid hash, given a difficulty level. Look through the code briefly (in depth is not necessary), run all of the cells, and answer the question at the bottom. (difficulty level 3 takes a bit of time so dont be alarmed if this next cell takes a bit of time to run). "
   ]
  },
  {
   "cell_type": "code",
   "execution_count": null,
   "metadata": {},
   "outputs": [],
   "source": [
    "blockchain = [create_genesis_block()]\n",
    "previous_block = blockchain[0]\n",
    "num_blocks = 10\n",
    "\n",
    "#3 different types of difficulty to analyze\n",
    "difficulty_0 = 1\n",
    "difficulty_1 = 2\n",
    "difficulty_2 = 3\n",
    "difficulty_3 = 4\n",
    "\n",
    "nonce_length = 20\n",
    "\n",
    "hash_array_0, time_array_0 = create_pow_blockchain(num_blocks, difficulty_0, blockchain, previous_block, nonce_length, 0)\n",
    "print(\"Difficulty Level: {} complete\".format(difficulty_0))\n",
    "hash_array_1, time_array_1 = create_pow_blockchain(num_blocks, difficulty_1, blockchain, previous_block, nonce_length, 0)\n",
    "print(\"Difficulty Level: {} complete\".format(difficulty_1))\n",
    "hash_array_2, time_array_2 = create_pow_blockchain(num_blocks, difficulty_2, blockchain, previous_block, nonce_length, 0)\n",
    "print(\"Difficulty Level: {} complete\".format(difficulty_2))\n",
    "hash_array_3, time_array_3 = create_pow_blockchain(num_blocks, difficulty_3, blockchain, previous_block, nonce_length, 0)\n",
    "print(\"Difficulty Level: {} complete\".format(difficulty_3))"
   ]
  },
  {
   "cell_type": "code",
   "execution_count": null,
   "metadata": {},
   "outputs": [],
   "source": [
    "mean_arr_hash = [np.mean(hash_array_0), np.mean(hash_array_1), np.mean(hash_array_2), np.mean(hash_array_3)]\n",
    "mean_arr_time = [np.mean(time_array_0), np.mean(time_array_1), np.mean(time_array_2), np.mean(time_array_3)]"
   ]
  },
  {
   "cell_type": "code",
   "execution_count": null,
   "metadata": {},
   "outputs": [],
   "source": [
    "plt.plot(mean_arr_hash)\n",
    "plt.show()"
   ]
  },
  {
   "cell_type": "code",
   "execution_count": null,
   "metadata": {},
   "outputs": [],
   "source": [
    "plt.plot(mean_arr_time)\n",
    "plt.show()"
   ]
  },
  {
   "cell_type": "code",
   "execution_count": null,
   "metadata": {},
   "outputs": [],
   "source": [
    "diff_factor_1 = np.mean(hash_array_1)/np.mean(hash_array_0)\n",
    "diff_factor_2 = np.mean(hash_array_2)/np.mean(hash_array_1)\n",
    "diff_factor_3 = np.mean(hash_array_3)/np.mean(hash_array_2)\n",
    "print(\"Factor of difficulty increase from 1 to 2: {}\".format(diff_factor_1))\n",
    "print(\"Factor of difficulty increase from 2 to 3: {}\".format(diff_factor_2))\n",
    "print(\"Factor of difficulty increase from 3 to 4: {}\".format(diff_factor_3))"
   ]
  },
  {
   "cell_type": "markdown",
   "metadata": {},
   "source": [
    "**Question 6: This one is simple**\n",
    "\n",
    "Look at the factor of difficulty increase from each level to the subsequent level, printed from the cell above.\n",
    "\n",
    "What whould the factor of difficulty increase be for each level: **Your answer Here**"
   ]
  },
  {
   "cell_type": "markdown",
   "metadata": {},
   "source": [
    "**Check Off**\n",
    "\n",
    "If you have filled out all the skeleton code and put down your answers for the questions, let any of the instructor know and we will check you off!\n",
    "\n",
    "If you cannot finish it this class, you have until next week's class to finish check off and earn points.\n"
   ]
  }
 ],
 "metadata": {
  "kernelspec": {
   "display_name": "Python 3",
   "language": "python",
   "name": "python3"
  },
  "language_info": {
   "codemirror_mode": {
    "name": "ipython",
    "version": 3
   },
   "file_extension": ".py",
   "mimetype": "text/x-python",
   "name": "python",
   "nbconvert_exporter": "python",
   "pygments_lexer": "ipython3",
   "version": "3.7.4"
  }
 },
 "nbformat": 4,
 "nbformat_minor": 2
}
